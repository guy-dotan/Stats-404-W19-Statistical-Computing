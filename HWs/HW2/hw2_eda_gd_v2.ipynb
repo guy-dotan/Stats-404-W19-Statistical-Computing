{
 "cells": [
  {
   "cell_type": "markdown",
   "metadata": {},
   "source": [
    "## Exploratory Data Analysis\n",
    "### 2017 - NBA Social Media Data"
   ]
  },
  {
   "cell_type": "code",
   "execution_count": 8,
   "metadata": {},
   "outputs": [],
   "source": [
    "'''\n",
    "     File name: hw2_eda_gd_v2.ipynb\n",
    "     Author: Guy Dotan\n",
    "     Date: 01/30/2019\n",
    "     Course: UCLA Stats 404\n",
    "     Description: HW #2. Exploratory data analysis on the NBA stats and social media dataset.\n",
    " '''\n",
    "\n",
    "import pandas as pd\n",
    "import glob\n",
    "from collections import Counter\n",
    "\n",
    "path = 'social-power-nba/'\n",
    "filelist = glob.glob(path + \"/*.csv\")\n",
    "filename = [s.replace('.csv', '').replace(path,'') for s in filelist]\n",
    "\n",
    "# creates dictionary of dataframes\n",
    "dfs = {}\n",
    "for x in range(len(filename)):\n",
    "    dfs[filename[x]] = pd.read_csv(filelist[x])\n"
   ]
  },
  {
   "cell_type": "markdown",
   "metadata": {},
   "source": [
    "### Dimensions of all datasets"
   ]
  },
  {
   "cell_type": "code",
   "execution_count": 9,
   "metadata": {},
   "outputs": [
    {
     "name": "stdout",
     "output_type": "stream",
     "text": [
      "                                     filename    dimension\n",
      "0                                 nba_2017_br    (486, 30)\n",
      "1                    nba_2017_team_valuations      (30, 2)\n",
      "2                                nba_2017_elo      (30, 3)\n",
      "3                        nba_2017_att_val_elo      (30, 9)\n",
      "4                       nba_2017_endorsements      (10, 4)\n",
      "5                           nba_2016_2017_100    (100, 63)\n",
      "6   nba_2017_players_with_salary_wiki_twitter    (239, 42)\n",
      "7                    nba_2017_twitter_players     (329, 3)\n",
      "8             nba_2017_players_stats_combined    (446, 38)\n",
      "9                   nba_2017_player_wikipedia  (162817, 5)\n",
      "10           nba_2017_nba_players_with_salary    (342, 39)\n",
      "11                               nba_2017_pie    (486, 22)\n",
      "12          nba_2017_att_val_elo_with_cluster     (30, 10)\n",
      "13                            nba_2017_salary     (449, 4)\n",
      "14                        nba_2017_attendance      (30, 5)\n",
      "15                           nba_2017_att_val      (30, 7)\n",
      "16                   nba_2017_real_plus_minus     (468, 8)\n"
     ]
    }
   ],
   "source": [
    "dims_df = pd.DataFrame(columns=['filename','dimension'])\n",
    "dims = []\n",
    "for key,value in dfs.items():\n",
    "    dims.append(str(value.shape))\n",
    "    \n",
    "dims_df['filename'] = dfs.keys()\n",
    "dims_df['dimension'] = dims\n",
    "print(dims_df)"
   ]
  },
  {
   "cell_type": "markdown",
   "metadata": {},
   "source": [
    "I think I will focus my data exploration on dataset number 6. Although it is fewer rows, it includes a variety of information from player statistics, salaries, and social media presence. A quick look at the data is below."
   ]
  },
  {
   "cell_type": "code",
   "execution_count": null,
   "metadata": {},
   "outputs": [],
   "source": [
    "nbafull = dfs['nba_2017_players_with_salary_wiki_twitter']\n",
    "\n",
    "nbafull.describe()"
   ]
  },
  {
   "cell_type": "code",
   "execution_count": 214,
   "metadata": {},
   "outputs": [
    {
     "data": {
      "text/html": [
       "<div>\n",
       "<style scoped>\n",
       "    .dataframe tbody tr th:only-of-type {\n",
       "        vertical-align: middle;\n",
       "    }\n",
       "\n",
       "    .dataframe tbody tr th {\n",
       "        vertical-align: top;\n",
       "    }\n",
       "\n",
       "    .dataframe thead th {\n",
       "        text-align: right;\n",
       "    }\n",
       "</style>\n",
       "<table border=\"1\" class=\"dataframe\">\n",
       "  <thead>\n",
       "    <tr style=\"text-align: right;\">\n",
       "      <th></th>\n",
       "      <th>Unnamed: 0</th>\n",
       "      <th>Rk</th>\n",
       "      <th>PLAYER</th>\n",
       "      <th>POSITION</th>\n",
       "      <th>AGE</th>\n",
       "      <th>MP</th>\n",
       "      <th>FG</th>\n",
       "      <th>FGA</th>\n",
       "      <th>FG%</th>\n",
       "      <th>3P</th>\n",
       "      <th>...</th>\n",
       "      <th>DRPM</th>\n",
       "      <th>RPM</th>\n",
       "      <th>WINS_RPM</th>\n",
       "      <th>PIE</th>\n",
       "      <th>PACE</th>\n",
       "      <th>W</th>\n",
       "      <th>SALARY_MILLIONS</th>\n",
       "      <th>PAGEVIEWS</th>\n",
       "      <th>TWITTER_FAVORITE_COUNT</th>\n",
       "      <th>TWITTER_RETWEET_COUNT</th>\n",
       "    </tr>\n",
       "  </thead>\n",
       "  <tbody>\n",
       "    <tr>\n",
       "      <th>0</th>\n",
       "      <td>0</td>\n",
       "      <td>1</td>\n",
       "      <td>Russell Westbrook</td>\n",
       "      <td>PG</td>\n",
       "      <td>28</td>\n",
       "      <td>34.6</td>\n",
       "      <td>10.2</td>\n",
       "      <td>24.0</td>\n",
       "      <td>0.425</td>\n",
       "      <td>2.5</td>\n",
       "      <td>...</td>\n",
       "      <td>-0.47</td>\n",
       "      <td>6.27</td>\n",
       "      <td>17.34</td>\n",
       "      <td>23.0</td>\n",
       "      <td>102.31</td>\n",
       "      <td>46</td>\n",
       "      <td>26.50</td>\n",
       "      <td>4279.0</td>\n",
       "      <td>2130.5</td>\n",
       "      <td>559.0</td>\n",
       "    </tr>\n",
       "    <tr>\n",
       "      <th>1</th>\n",
       "      <td>1</td>\n",
       "      <td>2</td>\n",
       "      <td>James Harden</td>\n",
       "      <td>PG</td>\n",
       "      <td>27</td>\n",
       "      <td>36.4</td>\n",
       "      <td>8.3</td>\n",
       "      <td>18.9</td>\n",
       "      <td>0.440</td>\n",
       "      <td>3.2</td>\n",
       "      <td>...</td>\n",
       "      <td>-1.57</td>\n",
       "      <td>4.81</td>\n",
       "      <td>15.54</td>\n",
       "      <td>19.0</td>\n",
       "      <td>102.98</td>\n",
       "      <td>54</td>\n",
       "      <td>26.50</td>\n",
       "      <td>3279.0</td>\n",
       "      <td>969.0</td>\n",
       "      <td>321.5</td>\n",
       "    </tr>\n",
       "    <tr>\n",
       "      <th>2</th>\n",
       "      <td>2</td>\n",
       "      <td>4</td>\n",
       "      <td>Anthony Davis</td>\n",
       "      <td>C</td>\n",
       "      <td>23</td>\n",
       "      <td>36.1</td>\n",
       "      <td>10.3</td>\n",
       "      <td>20.3</td>\n",
       "      <td>0.505</td>\n",
       "      <td>0.5</td>\n",
       "      <td>...</td>\n",
       "      <td>3.90</td>\n",
       "      <td>4.35</td>\n",
       "      <td>12.81</td>\n",
       "      <td>19.2</td>\n",
       "      <td>100.19</td>\n",
       "      <td>31</td>\n",
       "      <td>22.12</td>\n",
       "      <td>82.5</td>\n",
       "      <td>368.0</td>\n",
       "      <td>104.0</td>\n",
       "    </tr>\n",
       "    <tr>\n",
       "      <th>3</th>\n",
       "      <td>3</td>\n",
       "      <td>6</td>\n",
       "      <td>DeMarcus Cousins</td>\n",
       "      <td>C</td>\n",
       "      <td>26</td>\n",
       "      <td>34.2</td>\n",
       "      <td>9.0</td>\n",
       "      <td>19.9</td>\n",
       "      <td>0.452</td>\n",
       "      <td>1.8</td>\n",
       "      <td>...</td>\n",
       "      <td>0.64</td>\n",
       "      <td>4.20</td>\n",
       "      <td>11.26</td>\n",
       "      <td>17.8</td>\n",
       "      <td>97.11</td>\n",
       "      <td>30</td>\n",
       "      <td>16.96</td>\n",
       "      <td>1625.5</td>\n",
       "      <td>102.0</td>\n",
       "      <td>91.5</td>\n",
       "    </tr>\n",
       "    <tr>\n",
       "      <th>4</th>\n",
       "      <td>4</td>\n",
       "      <td>7</td>\n",
       "      <td>Damian Lillard</td>\n",
       "      <td>PG</td>\n",
       "      <td>26</td>\n",
       "      <td>35.9</td>\n",
       "      <td>8.8</td>\n",
       "      <td>19.8</td>\n",
       "      <td>0.444</td>\n",
       "      <td>2.9</td>\n",
       "      <td>...</td>\n",
       "      <td>-1.49</td>\n",
       "      <td>3.14</td>\n",
       "      <td>10.72</td>\n",
       "      <td>15.9</td>\n",
       "      <td>99.68</td>\n",
       "      <td>38</td>\n",
       "      <td>24.33</td>\n",
       "      <td>1830.5</td>\n",
       "      <td>186.5</td>\n",
       "      <td>43.0</td>\n",
       "    </tr>\n",
       "  </tbody>\n",
       "</table>\n",
       "<p>5 rows × 42 columns</p>\n",
       "</div>"
      ],
      "text/plain": [
       "   Unnamed: 0  Rk             PLAYER POSITION  AGE    MP    FG   FGA    FG%  \\\n",
       "0           0   1  Russell Westbrook       PG   28  34.6  10.2  24.0  0.425   \n",
       "1           1   2       James Harden       PG   27  36.4   8.3  18.9  0.440   \n",
       "2           2   4      Anthony Davis        C   23  36.1  10.3  20.3  0.505   \n",
       "3           3   6   DeMarcus Cousins        C   26  34.2   9.0  19.9  0.452   \n",
       "4           4   7     Damian Lillard       PG   26  35.9   8.8  19.8  0.444   \n",
       "\n",
       "    3P          ...            DRPM   RPM  WINS_RPM   PIE    PACE   W  \\\n",
       "0  2.5          ...           -0.47  6.27     17.34  23.0  102.31  46   \n",
       "1  3.2          ...           -1.57  4.81     15.54  19.0  102.98  54   \n",
       "2  0.5          ...            3.90  4.35     12.81  19.2  100.19  31   \n",
       "3  1.8          ...            0.64  4.20     11.26  17.8   97.11  30   \n",
       "4  2.9          ...           -1.49  3.14     10.72  15.9   99.68  38   \n",
       "\n",
       "   SALARY_MILLIONS  PAGEVIEWS  TWITTER_FAVORITE_COUNT  TWITTER_RETWEET_COUNT  \n",
       "0            26.50     4279.0                  2130.5                  559.0  \n",
       "1            26.50     3279.0                   969.0                  321.5  \n",
       "2            22.12       82.5                   368.0                  104.0  \n",
       "3            16.96     1625.5                   102.0                   91.5  \n",
       "4            24.33     1830.5                   186.5                   43.0  \n",
       "\n",
       "[5 rows x 42 columns]"
      ]
     },
     "execution_count": 214,
     "metadata": {},
     "output_type": "execute_result"
    }
   ],
   "source": [
    "nbafull.head()"
   ]
  },
  {
   "cell_type": "code",
   "execution_count": null,
   "metadata": {},
   "outputs": [],
   "source": [
    "Counter(nbafull['AGE'])"
   ]
  },
  {
   "cell_type": "code",
   "execution_count": 212,
   "metadata": {},
   "outputs": [
    {
     "data": {
      "text/plain": [
       "Counter({19: 6,\n",
       "         20: 12,\n",
       "         21: 15,\n",
       "         22: 19,\n",
       "         23: 18,\n",
       "         24: 19,\n",
       "         25: 22,\n",
       "         26: 19,\n",
       "         27: 15,\n",
       "         28: 22,\n",
       "         29: 16,\n",
       "         30: 12,\n",
       "         31: 14,\n",
       "         32: 9,\n",
       "         33: 5,\n",
       "         34: 3,\n",
       "         35: 4,\n",
       "         36: 5,\n",
       "         38: 1,\n",
       "         39: 2,\n",
       "         40: 1})"
      ]
     },
     "execution_count": 212,
     "metadata": {},
     "output_type": "execute_result"
    }
   ],
   "source": [
    "Counter(nbafull['POSITION'])"
   ]
  },
  {
   "cell_type": "code",
   "execution_count": 213,
   "metadata": {},
   "outputs": [
    {
     "data": {
      "text/plain": [
       "<matplotlib.axes._subplots.AxesSubplot at 0x11fa71390>"
      ]
     },
     "execution_count": 213,
     "metadata": {},
     "output_type": "execute_result"
    },
    {
     "data": {
      "image/png": "[encoded data removed]",
      "text/plain": [
       "<matplotlib.figure.Figure at 0x11f9298d0>"
      ]
     },
     "metadata": {},
     "output_type": "display_data"
    }
   ],
   "source": [
    "%matplotlib inline\n",
    "\n",
    "nbafull['SALARY_MILLIONS'].hist(bins=50)"
   ]
  },
  {
   "cell_type": "code",
   "execution_count": 209,
   "metadata": {},
   "outputs": [
    {
     "data": {
      "text/plain": [
       "<matplotlib.axes._subplots.AxesSubplot at 0x11f3d0c88>"
      ]
     },
     "execution_count": 209,
     "metadata": {},
     "output_type": "execute_result"
    },
    {
     "data": {
      "image/png": "[encoded data removed]",
      "text/plain": [
       "<matplotlib.figure.Figure at 0x11f787c18>"
      ]
     },
     "metadata": {},
     "output_type": "display_data"
    }
   ],
   "source": [
    "nbafull['PAGEVIEWS'].hist(bins=50)"
   ]
  },
  {
   "cell_type": "code",
   "execution_count": 210,
   "metadata": {},
   "outputs": [
    {
     "data": {
      "text/plain": [
       "<matplotlib.axes._subplots.AxesSubplot at 0x11f81f0b8>"
      ]
     },
     "execution_count": 210,
     "metadata": {},
     "output_type": "execute_result"
    },
    {
     "data": {
      "image/png": "[encoded data removed]",
      "text/plain": [
       "<matplotlib.figure.Figure at 0x11f836400>"
      ]
     },
     "metadata": {},
     "output_type": "display_data"
    }
   ],
   "source": [
    "nbafull['TWITTER_RETWEET_COUNT'].hist(bins=100)"
   ]
  },
  {
   "cell_type": "markdown",
   "metadata": {},
   "source": [
    "### Potential modeling approaches\n",
    "\n",
    "There are 16 different datasets that came with this Kaggle set. Fortunately some of them are an already merged combination of them. I think the merged dataset that I want to look at is the one that combines player statistics with their social media and salary.\n",
    "\n",
    "From the first histogrma we see that the Salary has a nice distribution that could be modeled. The histograms of Wikipedia views and Twitter retweets is much more skewed. So we would have to do some transformations before modeling. We have some interesting categorical variables such as AGE and POSITION. I think it would be interesting to see if correlations exist between age and a player's social media presence. Or if the presence is more closely related to a player's statistics or salary."
   ]
  }
 ],
 "metadata": {
  "kernelspec": {
   "display_name": "Python 3",
   "language": "python",
   "name": "python3"
  },
  "language_info": {
   "codemirror_mode": {
    "name": "ipython",
    "version": 3
   },
   "file_extension": ".py",
   "mimetype": "text/x-python",
   "name": "python",
   "nbconvert_exporter": "python",
   "pygments_lexer": "ipython3",
   "version": "3.6.4"
  }
 },
 "nbformat": 4,
 "nbformat_minor": 1
}
